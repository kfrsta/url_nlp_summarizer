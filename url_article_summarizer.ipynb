{
  "nbformat": 4,
  "nbformat_minor": 0,
  "metadata": {
    "colab": {
      "provenance": [],
      "authorship_tag": "ABX9TyMXvOi1J4Tyy/+nzhSHNCYW"
    },
    "kernelspec": {
      "name": "python3",
      "display_name": "Python 3"
    },
    "language_info": {
      "name": "python"
    }
  },
  "cells": [
    {
      "cell_type": "code",
      "source": [
        "import nltk\n",
        "nltk.download('punkt')\n",
        "nltk.download(\"stopwords\")\n",
        "from nltk.tokenize import sent_tokenize, word_tokenize\n",
        "from nltk.corpus import stopwords\n",
        "from heapq import nlargest\n",
        "import gensim\n",
        "import requests\n",
        "from bs4 import BeautifulSoup\n",
        "from sklearn.feature_extraction.text import TfidfVectorizer\n",
        "from sklearn.cluster import KMeans\n",
        "from string import punctuation"
      ],
      "metadata": {
        "colab": {
          "base_uri": "https://localhost:8080/"
        },
        "id": "lANyGjvmZmGY",
        "outputId": "4f1c7c53-2952-4ed5-ffb4-7f7969f64000"
      },
      "execution_count": null,
      "outputs": [
        {
          "output_type": "stream",
          "name": "stderr",
          "text": [
            "[nltk_data] Downloading package punkt to /root/nltk_data...\n",
            "[nltk_data]   Package punkt is already up-to-date!\n",
            "[nltk_data] Downloading package stopwords to /root/nltk_data...\n",
            "[nltk_data]   Package stopwords is already up-to-date!\n"
          ]
        }
      ]
    },
    {
      "cell_type": "code",
      "source": [],
      "metadata": {
        "id": "14tssoD2Ft5c"
      },
      "execution_count": null,
      "outputs": []
    },
    {
      "cell_type": "code",
      "source": [
        "url=\"https://habr.com/ru/news/727002/\"\n",
        "response=requests.get(url)\n",
        "response"
      ],
      "metadata": {
        "colab": {
          "base_uri": "https://localhost:8080/"
        },
        "id": "NjutUQ5V7Mrz",
        "outputId": "0d1ff0d0-a3a0-41eb-e017-62d2d19717fa"
      },
      "execution_count": null,
      "outputs": [
        {
          "output_type": "execute_result",
          "data": {
            "text/plain": [
              "<Response [200]>"
            ]
          },
          "metadata": {},
          "execution_count": 70
        }
      ]
    },
    {
      "cell_type": "code",
      "source": [
        "soup=BeautifulSoup(response.content,\"html.parser\")\n",
        "title=soup.find('h1').text\n",
        "title"
      ],
      "metadata": {
        "colab": {
          "base_uri": "https://localhost:8080/",
          "height": 35
        },
        "id": "3Q5NxJEC7OUC",
        "outputId": "6adc1bb3-c091-4642-a060-9af92c7434b1"
      },
      "execution_count": null,
      "outputs": [
        {
          "output_type": "execute_result",
          "data": {
            "text/plain": [
              "'Робот Boxing Buddy позволяет боксёрским грушам давать отпор'"
            ],
            "application/vnd.google.colaboratory.intrinsic+json": {
              "type": "string"
            }
          },
          "metadata": {},
          "execution_count": 71
        }
      ]
    },
    {
      "cell_type": "code",
      "source": [
        "article_text=''\n",
        "for p in soup.find_all('p'):\n",
        "  article_text+=p.text"
      ],
      "metadata": {
        "id": "Q_68ffuQ7UGg"
      },
      "execution_count": null,
      "outputs": []
    },
    {
      "cell_type": "code",
      "source": [
        "article_text[:50]"
      ],
      "metadata": {
        "colab": {
          "base_uri": "https://localhost:8080/",
          "height": 35
        },
        "id": "pN--r3K9Eiuw",
        "outputId": "2c21c7b4-1ec5-4ae7-d9b1-f8a2e7399b05"
      },
      "execution_count": null,
      "outputs": [
        {
          "output_type": "execute_result",
          "data": {
            "text/plain": [
              "'Компания Boxing Buddy представила одноимённый трен'"
            ],
            "application/vnd.google.colaboratory.intrinsic+json": {
              "type": "string"
            }
          },
          "metadata": {},
          "execution_count": 73
        }
      ]
    },
    {
      "cell_type": "code",
      "source": [
        "sentences=sent_tokenize(article_text)\n",
        "words=word_tokenize(article_text)\n",
        "num_sentences=len(sentences)"
      ],
      "metadata": {
        "id": "Noqr4e76Ztlc"
      },
      "execution_count": null,
      "outputs": []
    },
    {
      "cell_type": "code",
      "source": [
        "sentences[:5]"
      ],
      "metadata": {
        "colab": {
          "base_uri": "https://localhost:8080/"
        },
        "id": "5P7W8VdQEc0R",
        "outputId": "44d840ae-3161-47b6-f717-9830669d7e68"
      },
      "execution_count": null,
      "outputs": [
        {
          "output_type": "execute_result",
          "data": {
            "text/plain": [
              "['Компания Boxing Buddy представила одноимённый тренажёр, который даёт боксёрским грушам возможность бить в ответ.',\n",
              " 'Тренажёр доступен на краудфандинговой площадке Indiegogo за $250.«Boxing Buddy — идеальный интеллектуальный помощник для всех любителей бокса.',\n",
              " 'Это портативное дополнение превращает вашу боксёрскую грушу в спарринг-партнёра, который наносит ответный удар, делая ваши тренировки более сложными и полными», — пишут разработчики.Установка Boxing Buddy состоит из двух мягких роборук, которые присоединяются к боксёрской груше на любой желаемой высоте.',\n",
              " 'Руки также можно закрепить на дереве, тренировочном манекене или любом другом прочном вертикальном объекте.',\n",
              " 'Тренажёр подключается к смартфону через Bluetooth.']"
            ]
          },
          "metadata": {},
          "execution_count": 75
        }
      ]
    },
    {
      "cell_type": "code",
      "source": [
        "stop_words=set(stopwords.words(\"russian\")+list(punctuation))\n",
        "filtered_words=[]\n",
        "\n",
        "for word in words:\n",
        "  if word.casefold() not in stop_words:\n",
        "    filtered_words.append(word)"
      ],
      "metadata": {
        "id": "Ihrn3ucSa-RN"
      },
      "execution_count": null,
      "outputs": []
    },
    {
      "cell_type": "code",
      "source": [
        "word_freqs={}\n",
        "\n",
        "for word in filtered_words:\n",
        "  if word not in word_freqs:\n",
        "    word_freqs[word]=1\n",
        "  else:\n",
        "    word_freqs[word]+=1"
      ],
      "metadata": {
        "id": "mVpneq1ibmkH"
      },
      "execution_count": null,
      "outputs": []
    },
    {
      "cell_type": "code",
      "source": [
        "max_freq=max(word_freqs.values())\n",
        "for word in word_freqs.keys():\n",
        "  word_freqs[word]/=max_freq"
      ],
      "metadata": {
        "id": "SSYHuZ8eb41O"
      },
      "execution_count": null,
      "outputs": []
    },
    {
      "cell_type": "code",
      "source": [
        "sent_scores={}\n",
        "\n",
        "for sentence in sentences:\n",
        "  for word in word_tokenize(sentence.lower()):\n",
        "    if word in word_freqs.keys():\n",
        "      if len(sentence.split(\" \"))<30:\n",
        "        if sentence not in sent_scores.keys():\n",
        "          sent_scores[sentence]=word_freqs[word]\n",
        "        else:\n",
        "          sent_scores[sentence]+=word_freqs[word]"
      ],
      "metadata": {
        "id": "pfjd0IpsctdW"
      },
      "execution_count": null,
      "outputs": []
    },
    {
      "cell_type": "code",
      "source": [
        "sent_scores"
      ],
      "metadata": {
        "colab": {
          "base_uri": "https://localhost:8080/"
        },
        "id": "gifWowpWEXu5",
        "outputId": "89bb515e-b528-46e6-c892-8a2de1721073"
      },
      "execution_count": null,
      "outputs": [
        {
          "output_type": "execute_result",
          "data": {
            "text/plain": [
              "{'Компания Boxing Buddy представила одноимённый тренажёр, который даёт боксёрским грушам возможность бить в ответ.': 2.4000000000000004,\n",
              " 'Тренажёр доступен на краудфандинговой площадке Indiegogo за $250.«Boxing Buddy — идеальный интеллектуальный помощник для всех любителей бокса.': 3.2000000000000006,\n",
              " 'Руки также можно закрепить на дереве, тренировочном манекене или любом другом прочном вертикальном объекте.': 2.1999999999999997,\n",
              " 'Тренажёр подключается к смартфону через Bluetooth.': 0.6000000000000001,\n",
              " 'В приложении также есть функция «Школа» с серией обучающих видеороликов.Вся система весит около 2 кг.': 3.2000000000000006,\n",
              " 'Одной 1,5-часовой зарядки тренажёра хватит на 10 часов работы.': 1.4,\n",
              " 'Планируется, что Boxing Buddy поступит в продаже по цене в $449.': 0.8,\n",
              " 'Сейчас он доступен на краудфандинговой платформе за $249.Информационная служба Хабра': 1.2}"
            ]
          },
          "metadata": {},
          "execution_count": 80
        }
      ]
    },
    {
      "cell_type": "code",
      "source": [
        "summary_sents=nlargest(5,sent_scores,key=sent_scores.get)\n",
        "summary=\" \".join(summary_sents)"
      ],
      "metadata": {
        "id": "TzYGv-c5dfsp"
      },
      "execution_count": null,
      "outputs": []
    },
    {
      "cell_type": "code",
      "source": [
        "print(summary)"
      ],
      "metadata": {
        "colab": {
          "base_uri": "https://localhost:8080/"
        },
        "id": "S7KoVENBdy5-",
        "outputId": "2def9701-c155-4106-e6fb-10562c023a7f"
      },
      "execution_count": null,
      "outputs": [
        {
          "output_type": "stream",
          "name": "stdout",
          "text": [
            "Тренажёр доступен на краудфандинговой площадке Indiegogo за $250.«Boxing Buddy — идеальный интеллектуальный помощник для всех любителей бокса. В приложении также есть функция «Школа» с серией обучающих видеороликов.Вся система весит около 2 кг. Компания Boxing Buddy представила одноимённый тренажёр, который даёт боксёрским грушам возможность бить в ответ. Руки также можно закрепить на дереве, тренировочном манекене или любом другом прочном вертикальном объекте. Одной 1,5-часовой зарядки тренажёра хватит на 10 часов работы.\n"
          ]
        }
      ]
    },
    {
      "cell_type": "code",
      "source": [
        "my_file=open(\"/content/sample_data/output.txt\",\"w+\")\n",
        "my_file.write(summary)\n",
        "my_file.close()"
      ],
      "metadata": {
        "id": "jqRJBfOXxLxe"
      },
      "execution_count": null,
      "outputs": []
    }
  ]
}